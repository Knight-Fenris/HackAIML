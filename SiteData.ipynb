{
 "cells": [
  {
   "cell_type": "code",
   "execution_count": 1,
   "metadata": {},
   "outputs": [],
   "source": [
    "from bs4 import BeautifulSoup as bs\n",
    "import requests"
   ]
  },
  {
   "cell_type": "code",
   "execution_count": 2,
   "metadata": {},
   "outputs": [],
   "source": [
    "# url = 'https://en.wikipedia.org/wiki/The_Eminence_in_Shadow'\n",
    "url = 'http://127.0.0.1:5500/random_webpage/index.html'\n",
    "response = requests.get(url, headers ={'User-Agent':'Mozilla/5.0'})\n"
   ]
  },
  {
   "cell_type": "code",
   "execution_count": 3,
   "metadata": {},
   "outputs": [
    {
     "name": "stdout",
     "output_type": "stream",
     "text": [
      "b'<!DOCTYPE html>\\r\\n<html lang=\"en\">\\r\\n<head>\\r\\n<title>W3.CSS Template</title>\\r\\n<meta charset=\"UTF-8\">\\r\\n<meta name=\"viewport\" content=\"width=device-width, initial-scale=1\">\\r\\n<link rel=\"stylesheet\" href=\"https://www.w3schools.com/w3css/4/w3.css\">\\r\\n<link rel=\"stylesheet\" href=\"https://fonts.googleapis.com/css?family=Lato\">\\r\\n<link rel=\"stylesheet\" href=\"https://cdnjs.cloudflare.com/ajax/libs/font-awesome/4.7.0/css/font-awesome.min.css\">\\r\\n<style>\\r\\nbody {font-family: \"Lato\", sans-serif}\\r\\n.mySlides {display: none}\\r\\n</style>\\r\\n</head>\\r\\n<body>\\r\\n\\r\\n<!-- Navbar -->\\r\\n<div class=\"w3-top\">\\r\\n  <div class=\"w3-bar w3-black w3-card\">\\r\\n    <a class=\"w3-bar-item w3-button w3-padding-large w3-hide-medium w3-hide-large w3-right\" href=\"javascript:void(0)\" onclick=\"myFunction()\" title=\"Toggle Navigation Menu\"><i class=\"fa fa-bars\"></i></a>\\r\\n    <a href=\"#\" class=\"w3-bar-item w3-button w3-padding-large\">HOME</a>\\r\\n    <a href=\"#band\" class=\"w3-bar-item w3-button w3-padding-large w3-hide-small\">BAND</a>\\r\\n    <a href=\"#tour\" class=\"w3-bar-item w3-button w3-padding-large w3-hide-small\">TOUR</a>\\r\\n    <a href=\"#contact\" class=\"w3-bar-item w3-button w3-padding-large w3-hide-small\">CONTACT</a>\\r\\n    <div class=\"w3-dropdown-hover w3-hide-small\">\\r\\n      <button class=\"w3-padding-large w3-button\" title=\"More\">MORE <i class=\"fa fa-caret-down\"></i></button>     \\r\\n      <div class=\"w3-dropdown-content w3-bar-block w3-card-4\">\\r\\n        <a href=\"#\" class=\"w3-bar-item w3-button\">Merchandise</a>\\r\\n        <a href=\"#\" class=\"w3-bar-item w3-button\">Extras</a>\\r\\n        <a href=\"#\" class=\"w3-bar-item w3-button\">Media</a>\\r\\n      </div>\\r\\n    </div>\\r\\n    <a href=\"javascript:void(0)\" class=\"w3-padding-large w3-hover-red w3-hide-small w3-right\"><i class=\"fa fa-search\"></i></a>\\r\\n  </div>\\r\\n</div>\\r\\n\\r\\n<!-- Navbar on small screens (remove the onclick attribute if you want the navbar to always show on top of the content when clicking on the links) -->\\r\\n<div id=\"navDemo\" class=\"w3-bar-block w3-black w3-hide w3-hide-large w3-hide-medium w3-top\" style=\"margin-top:46px\">\\r\\n  <a href=\"#band\" class=\"w3-bar-item w3-button w3-padding-large\" onclick=\"myFunction()\">BAND</a>\\r\\n  <a href=\"#tour\" class=\"w3-bar-item w3-button w3-padding-large\" onclick=\"myFunction()\">TOUR</a>\\r\\n  <a href=\"#contact\" class=\"w3-bar-item w3-button w3-padding-large\" onclick=\"myFunction()\">CONTACT</a>\\r\\n  <a href=\"#\" class=\"w3-bar-item w3-button w3-padding-large\" onclick=\"myFunction()\">MERCH</a>\\r\\n</div>\\r\\n\\r\\n<!-- Page content -->\\r\\n<div class=\"w3-content\" style=\"max-width:2000px;margin-top:46px\">\\r\\n\\r\\n  <!-- Automatic Slideshow Images -->\\r\\n  <div class=\"mySlides w3-display-container w3-center\">\\r\\n    <img src=\"https://www.w3schools.com/w3images/la.jpg\" style=\"width:100%\">\\r\\n    <div class=\"w3-display-bottommiddle w3-container w3-text-white w3-padding-32 w3-hide-small\">\\r\\n      <h3>Los Angeles</h3>\\r\\n      <p><b>We had the best time playing at Venice Beach!</b></p>   \\r\\n    </div>\\r\\n  </div>\\r\\n  <div class=\"mySlides w3-display-container w3-center\">\\r\\n    <img src=\"https://www.w3schools.com/w3images/ny.jpg\" style=\"width:100%\">\\r\\n    <div class=\"w3-display-bottommiddle w3-container w3-text-white w3-padding-32 w3-hide-small\">\\r\\n      <h3>New York</h3>\\r\\n      <p><b>The atmosphere in New York is lorem ipsum.</b></p>    \\r\\n    </div>\\r\\n  </div>\\r\\n  <div class=\"mySlides w3-display-container w3-center\">\\r\\n    <img src=\"https://www.w3schools.com/w3images/chicago.jpg\" style=\"width:100%\">\\r\\n    <div class=\"w3-display-bottommiddle w3-container w3-text-white w3-padding-32 w3-hide-small\">\\r\\n      <h3>Chicago</h3>\\r\\n      <p><b>Thank you, Chicago - A night we won\\'t forget.</b></p>    \\r\\n    </div>\\r\\n  </div>\\r\\n\\r\\n  <!-- The Band Section -->\\r\\n  <div class=\"w3-container w3-content w3-center w3-padding-64\" style=\"max-width:800px\" id=\"band\">\\r\\n    <h2 class=\"w3-wide\">THE BAND</h2>\\r\\n    <p class=\"w3-opacity\"><i>We love music</i></p>\\r\\n    <p class=\"w3-justify\">We have created a fictional band website. Lorem ipsum dolor sit amet, consectetur adipiscing elit, sed do eiusmod tempor incididunt ut labore et dolore magna aliqua. Ut enim ad minim veniam, quis nostrud exercitation ullamco laboris nisi ut aliquip\\r\\n      ex ea commodo consequat. Duis aute irure dolor in reprehenderit in voluptate velit esse cillum dolore eu fugiat nulla pariatur. Excepteur sint occaecat cupidatat non proident, sunt in culpa qui officia deserunt mollit anim id est laborum consectetur\\r\\n      adipiscing elit, sed do eiusmod tempor incididunt ut labore et dolore magna aliqua. Ut enim ad minim veniam, quis nostrud exercitation ullamco laboris nisi ut aliquip ex ea commodo consequat.</p>\\r\\n    <div class=\"w3-row w3-padding-32\">\\r\\n      <div class=\"w3-third\">\\r\\n        <p>Name</p>\\r\\n        <img src=\"https://www.w3schools.com/w3images/bandmember.jpg\" class=\"w3-round w3-margin-bottom\" alt=\"Random Name\" style=\"width:60%\">\\r\\n      </div>\\r\\n      <div class=\"w3-third\">\\r\\n        <p>Name</p>\\r\\n        <img src=\"https://www.w3schools.com/w3images/bandmember.jpg\" class=\"w3-round w3-margin-bottom\" alt=\"Random Name\" style=\"width:60%\">\\r\\n      </div>\\r\\n      <div class=\"w3-third\">\\r\\n        <p>Name</p>\\r\\n        <img src=\"https://www.w3schools.com/w3images/bandmember.jpg\" class=\"w3-round\" alt=\"Random Name\" style=\"width:60%\">\\r\\n      </div>\\r\\n    </div>\\r\\n  </div>\\r\\n\\r\\n  <!-- The Tour Section -->\\r\\n  <div class=\"w3-black\" id=\"tour\">\\r\\n    <div class=\"w3-container w3-content w3-padding-64\" style=\"max-width:800px\">\\r\\n      <h2 class=\"w3-wide w3-center\">TOUR DATES</h2>\\r\\n      <p class=\"w3-opacity w3-center\"><i>Remember to book your tickets!</i></p><br>\\r\\n\\r\\n      <ul class=\"w3-ul w3-border w3-white w3-text-grey\">\\r\\n        <li class=\"w3-padding\">September <span class=\"w3-tag w3-red w3-margin-left\">Sold out</span></li>\\r\\n        <li class=\"w3-padding\">October <span class=\"w3-tag w3-red w3-margin-left\">Sold out</span></li>\\r\\n        <li class=\"w3-padding\">November <span class=\"w3-badge w3-right w3-margin-right\">3</span></li>\\r\\n      </ul>\\r\\n\\r\\n      <div class=\"w3-row-padding w3-padding-32\" style=\"margin:0 -16px\">\\r\\n        <div class=\"w3-third w3-margin-bottom\">\\r\\n          <img src=\"https://www.w3schools.com/w3images/newyork.jpg\" alt=\"New York\" style=\"width:100%\" class=\"w3-hover-opacity\">\\r\\n          <div class=\"w3-container w3-white\">\\r\\n            <p><b>New York</b></p>\\r\\n            <p class=\"w3-opacity\">Fri 27 Nov 2016</p>\\r\\n            <p>Praesent tincidunt sed tellus ut rutrum sed vitae justo.</p>\\r\\n            <button class=\"w3-button w3-black w3-margin-bottom\" onclick=\"document.getElementById(\\'ticketModal\\').style.display=\\'block\\'\">Buy Tickets</button>\\r\\n          </div>\\r\\n        </div>\\r\\n        <div class=\"w3-third w3-margin-bottom\">\\r\\n          <img src=\"https://www.w3schools.com/w3images/paris.jpg\" alt=\"Paris\" style=\"width:100%\" class=\"w3-hover-opacity\">\\r\\n          <div class=\"w3-container w3-white\">\\r\\n            <p><b>Paris</b></p>\\r\\n            <p class=\"w3-opacity\">Sat 28 Nov 2016</p>\\r\\n            <p>Praesent tincidunt sed tellus ut rutrum sed vitae justo.</p>\\r\\n            <button class=\"w3-button w3-black w3-margin-bottom\" onclick=\"document.getElementById(\\'ticketModal\\').style.display=\\'block\\'\">Buy Tickets</button>\\r\\n          </div>\\r\\n        </div>\\r\\n        <div class=\"w3-third w3-margin-bottom\">\\r\\n          <img src=\"/w3images/sanfran.jpg\" alt=\"San Francisco\" style=\"width:100%\" class=\"w3-hover-opacity\">\\r\\n          <div class=\"w3-container w3-white\">\\r\\n            <p><b>San Francisco</b></p>\\r\\n            <p class=\"w3-opacity\">Sun 29 Nov 2016</p>\\r\\n            <p>Praesent tincidunt sed tellus ut rutrum sed vitae justo.</p>\\r\\n            <button class=\"w3-button w3-black w3-margin-bottom\" onclick=\"document.getElementById(\\'ticketModal\\').style.display=\\'block\\'\">Buy Tickets</button>\\r\\n          </div>\\r\\n        </div>\\r\\n      </div>\\r\\n    </div>\\r\\n  </div>\\r\\n\\r\\n  <!-- Ticket Modal -->\\r\\n  <div id=\"ticketModal\" class=\"w3-modal\">\\r\\n    <div class=\"w3-modal-content w3-animate-top w3-card-4\">\\r\\n      <header class=\"w3-container w3-teal w3-center w3-padding-32\"> \\r\\n        <span onclick=\"document.getElementById(\\'ticketModal\\').style.display=\\'none\\'\" \\r\\n       class=\"w3-button w3-teal w3-xlarge w3-display-topright\">\\xc3\\x97</span>\\r\\n        <h2 class=\"w3-wide\"><i class=\"fa fa-suitcase w3-margin-right\"></i>Tickets</h2>\\r\\n      </header>\\r\\n      <div class=\"w3-container\">\\r\\n        <p><label><i class=\"fa fa-shopping-cart\"></i> Tickets, $15 per person</label></p>\\r\\n        <input class=\"w3-input w3-border\" type=\"text\" placeholder=\"How many?\">\\r\\n        <p><label><i class=\"fa fa-user\"></i> Send To</label></p>\\r\\n        <input class=\"w3-input w3-border\" type=\"text\" placeholder=\"Enter email\">\\r\\n        <button class=\"w3-button w3-block w3-teal w3-padding-16 w3-section w3-right\">PAY <i class=\"fa fa-check\"></i></button>\\r\\n        <button class=\"w3-button w3-red w3-section\" onclick=\"document.getElementById(\\'ticketModal\\').style.display=\\'none\\'\">Close <i class=\"fa fa-remove\"></i></button>\\r\\n        <p class=\"w3-right\">Need <a href=\"#\" class=\"w3-text-blue\">help?</a></p>\\r\\n      </div>\\r\\n    </div>\\r\\n  </div>\\r\\n\\r\\n  <!-- The Contact Section -->\\r\\n  <div class=\"w3-container w3-content w3-padding-64\" style=\"max-width:800px\" id=\"contact\">\\r\\n    <h2 class=\"w3-wide w3-center\">CONTACT</h2>\\r\\n    <p class=\"w3-opacity w3-center\"><i>Fan? Drop a note!</i></p>\\r\\n    <div class=\"w3-row w3-padding-32\">\\r\\n      <div class=\"w3-col m6 w3-large w3-margin-bottom\">\\r\\n        <i class=\"fa fa-map-marker\" style=\"width:30px\"></i> Chicago, US<br>\\r\\n        <i class=\"fa fa-phone\" style=\"width:30px\"></i> Phone: +00 151515<br>\\r\\n        <i class=\"fa fa-envelope\" style=\"width:30px\"> </i> Email: mail@mail.com<br>\\r\\n      </div>\\r\\n      <div class=\"w3-col m6\">\\r\\n        <form action=\"/action_page.php\" target=\"_blank\">\\r\\n          <div class=\"w3-row-padding\" style=\"margin:0 -16px 8px -16px\">\\r\\n            <div class=\"w3-half\">\\r\\n              <input class=\"w3-input w3-border\" type=\"text\" placeholder=\"Name\" required name=\"Name\">\\r\\n            </div>\\r\\n            <div class=\"w3-half\">\\r\\n              <input class=\"w3-input w3-border\" type=\"text\" placeholder=\"Email\" required name=\"Email\">\\r\\n            </div>\\r\\n          </div>\\r\\n          <input class=\"w3-input w3-border\" type=\"text\" placeholder=\"Message\" required name=\"Message\">\\r\\n          <button class=\"w3-button w3-black w3-section w3-right\" type=\"submit\">SEND</button>\\r\\n        </form>\\r\\n      </div>\\r\\n    </div>\\r\\n  </div>\\r\\n  \\r\\n<!-- End Page Content -->\\r\\n</div>\\r\\n\\r\\n<!-- Image of location/map -->\\r\\n<img src=\"/w3images/map.jpg\" class=\"w3-image w3-greyscale-min\" style=\"width:100%\">\\r\\n\\r\\n<!-- Footer -->\\r\\n<footer class=\"w3-container w3-padding-64 w3-center w3-opacity w3-light-grey w3-xlarge\">\\r\\n  <i class=\"fa fa-facebook-official w3-hover-opacity\"></i>\\r\\n  <i class=\"fa fa-instagram w3-hover-opacity\"></i>\\r\\n  <i class=\"fa fa-snapchat w3-hover-opacity\"></i>\\r\\n  <i class=\"fa fa-pinterest-p w3-hover-opacity\"></i>\\r\\n  <i class=\"fa fa-twitter w3-hover-opacity\"></i>\\r\\n  <i class=\"fa fa-linkedin w3-hover-opacity\"></i>\\r\\n  <p class=\"w3-medium\">Powered by <a href=\"https://www.w3schools.com/w3css/default.asp\" target=\"_blank\">w3.css</a></p>\\r\\n</footer>\\r\\n\\r\\n<script>\\r\\n// Automatic Slideshow - change image every 4 seconds\\r\\nvar myIndex = 0;\\r\\ncarousel();\\r\\n\\r\\nfunction carousel() {\\r\\n  var i;\\r\\n  var x = document.getElementsByClassName(\"mySlides\");\\r\\n  for (i = 0; i < x.length; i++) {\\r\\n    x[i].style.display = \"none\";  \\r\\n  }\\r\\n  myIndex++;\\r\\n  if (myIndex > x.length) {myIndex = 1}    \\r\\n  x[myIndex-1].style.display = \"block\";  \\r\\n  setTimeout(carousel, 4000);    \\r\\n}\\r\\n\\r\\n// Used to toggle the menu on small screens when clicking on the menu button\\r\\nfunction myFunction() {\\r\\n  var x = document.getElementById(\"navDemo\");\\r\\n  if (x.className.indexOf(\"w3-show\") == -1) {\\r\\n    x.className += \" w3-show\";\\r\\n  } else { \\r\\n    x.className = x.className.replace(\" w3-show\", \"\");\\r\\n  }\\r\\n}\\r\\n\\r\\n// When the user clicks anywhere outside of the modal, close it\\r\\nvar modal = document.getElementById(\\'ticketModal\\');\\r\\nwindow.onclick = function(event) {\\r\\n  if (event.target == modal) {\\r\\n    modal.style.display = \"none\";\\r\\n  }\\r\\n}\\r\\n</script>\\r\\n\\r\\n<!-- Code injected by live-server -->\\n<script>\\n\\t// <![CDATA[  <-- For SVG support\\n\\tif (\\'WebSocket\\' in window) {\\n\\t\\t(function () {\\n\\t\\t\\tfunction refreshCSS() {\\n\\t\\t\\t\\tvar sheets = [].slice.call(document.getElementsByTagName(\"link\"));\\n\\t\\t\\t\\tvar head = document.getElementsByTagName(\"head\")[0];\\n\\t\\t\\t\\tfor (var i = 0; i < sheets.length; ++i) {\\n\\t\\t\\t\\t\\tvar elem = sheets[i];\\n\\t\\t\\t\\t\\tvar parent = elem.parentElement || head;\\n\\t\\t\\t\\t\\tparent.removeChild(elem);\\n\\t\\t\\t\\t\\tvar rel = elem.rel;\\n\\t\\t\\t\\t\\tif (elem.href && typeof rel != \"string\" || rel.length == 0 || rel.toLowerCase() == \"stylesheet\") {\\n\\t\\t\\t\\t\\t\\tvar url = elem.href.replace(/(&|\\\\?)_cacheOverride=\\\\d+/, \\'\\');\\n\\t\\t\\t\\t\\t\\telem.href = url + (url.indexOf(\\'?\\') >= 0 ? \\'&\\' : \\'?\\') + \\'_cacheOverride=\\' + (new Date().valueOf());\\n\\t\\t\\t\\t\\t}\\n\\t\\t\\t\\t\\tparent.appendChild(elem);\\n\\t\\t\\t\\t}\\n\\t\\t\\t}\\n\\t\\t\\tvar protocol = window.location.protocol === \\'http:\\' ? \\'ws://\\' : \\'wss://\\';\\n\\t\\t\\tvar address = protocol + window.location.host + window.location.pathname + \\'/ws\\';\\n\\t\\t\\tvar socket = new WebSocket(address);\\n\\t\\t\\tsocket.onmessage = function (msg) {\\n\\t\\t\\t\\tif (msg.data == \\'reload\\') window.location.reload();\\n\\t\\t\\t\\telse if (msg.data == \\'refreshcss\\') refreshCSS();\\n\\t\\t\\t};\\n\\t\\t\\tif (sessionStorage && !sessionStorage.getItem(\\'IsThisFirstTime_Log_From_LiveServer\\')) {\\n\\t\\t\\t\\tconsole.log(\\'Live reload enabled.\\');\\n\\t\\t\\t\\tsessionStorage.setItem(\\'IsThisFirstTime_Log_From_LiveServer\\', true);\\n\\t\\t\\t}\\n\\t\\t})();\\n\\t}\\n\\telse {\\n\\t\\tconsole.error(\\'Upgrade your browser. This Browser is NOT supported WebSocket for Live-Reloading.\\');\\n\\t}\\n\\t// ]]>\\n</script>\\n</body>\\r\\n</html>\\r\\n'\n"
     ]
    }
   ],
   "source": [
    "print(response.content)"
   ]
  },
  {
   "cell_type": "code",
   "execution_count": 4,
   "metadata": {},
   "outputs": [],
   "source": [
    "soup = bs(response.text, 'lxml')\n",
    "pretty_html = soup.prettify()\n",
    "# print(pretty_html)\n",
    "\n"
   ]
  },
  {
   "cell_type": "code",
   "execution_count": 5,
   "metadata": {},
   "outputs": [
    {
     "name": "stdout",
     "output_type": "stream",
     "text": [
      "<class 'str'>\n"
     ]
    }
   ],
   "source": [
    "text = soup.get_text()\n",
    "print(type(text))"
   ]
  },
  {
   "cell_type": "code",
   "execution_count": 6,
   "metadata": {},
   "outputs": [],
   "source": [
    "fname = \"text.txt\"\n",
    "\n",
    "# with open(fname, \"w\", encoding=\"utf-8\") as f:\n",
    "#     f.write(text)\n",
    "# f.close()\n",
    "\n",
    "# f=open(fname,\"r+\")\n",
    "# f.truncate(0)"
   ]
  },
  {
   "cell_type": "code",
   "execution_count": 7,
   "metadata": {},
   "outputs": [],
   "source": [
    "# break into lines and remove leading and trailing space on each\n",
    "lines = (line.strip() for line in text.splitlines())\n",
    "# break multi-headlines into a line each\n",
    "chunks = (phrase.strip() for line in lines for phrase in line.split(\"  \"))\n",
    "# drop blank lines\n",
    "text = '\\n'.join(chunk for chunk in chunks if chunk)\n",
    "\n",
    "\n",
    "with open(fname, \"w\", encoding=\"utf-8\") as f:\n",
    "    f.write(text)\n",
    "f.close()\n",
    "    \n",
    "    "
   ]
  }
 ],
 "metadata": {
  "kernelspec": {
   "display_name": "Python 3",
   "language": "python",
   "name": "python3"
  },
  "language_info": {
   "codemirror_mode": {
    "name": "ipython",
    "version": 3
   },
   "file_extension": ".py",
   "mimetype": "text/x-python",
   "name": "python",
   "nbconvert_exporter": "python",
   "pygments_lexer": "ipython3",
   "version": "3.11.5"
  }
 },
 "nbformat": 4,
 "nbformat_minor": 2
}
