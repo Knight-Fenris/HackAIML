{
 "cells": [
  {
   "cell_type": "code",
   "execution_count": 18,
   "metadata": {},
   "outputs": [],
   "source": [
    "import re"
   ]
  },
  {
   "cell_type": "code",
   "execution_count": 19,
   "metadata": {},
   "outputs": [],
   "source": [
    "fname = 'text.txt'\n",
    "fname_out = 'text_out.txt'"
   ]
  },
  {
   "cell_type": "code",
   "execution_count": 20,
   "metadata": {},
   "outputs": [
    {
     "name": "stdout",
     "output_type": "stream",
     "text": [
      "<class 'str'>\n"
     ]
    }
   ],
   "source": [
    "with open(fname, \"r\", encoding=\"utf-8\") as f:\n",
    "    text = f.read()\n",
    "f.close()\n",
    "print(type(text))"
   ]
  },
  {
   "cell_type": "code",
   "execution_count": 23,
   "metadata": {},
   "outputs": [],
   "source": [
    "#remove foriegn language characters\n",
    "res = re.sub(r'[^\\x00-\\x7f]',r'', text) \n",
    "\n",
    "#remove text having less than 2 words\n",
    "text_2 = '\\n'.join([i for i in res.split('\\n') if len(i.split()) > 2])\n",
    "\n",
    "with open(fname_out, \"w\", encoding=\"utf-8\") as f:\n",
    "    f.write(text_2)\n",
    "f.close()\n",
    "\n",
    "# print(text_2)\n",
    "\n",
    "# str = \"123456790 ABC#%? .(朱惠英)\"\n",
    "# result = re.sub(r'[^\\x00-\\x7f]',r'', str)\n",
    "# print(result)"
   ]
  },
  {
   "cell_type": "code",
   "execution_count": 4,
   "metadata": {},
   "outputs": [],
   "source": [
    "import spacy\n"
   ]
  },
  {
   "cell_type": "code",
   "execution_count": 15,
   "metadata": {},
   "outputs": [],
   "source": [
    "nlp = spacy.load(\"en_core_web_sm\")"
   ]
  },
  {
   "cell_type": "code",
   "execution_count": 25,
   "metadata": {},
   "outputs": [
    {
     "name": "stdout",
     "output_type": "stream",
     "text": [
      "Similarity between the two sentences: 0.4171788084727313\n"
     ]
    },
    {
     "name": "stderr",
     "output_type": "stream",
     "text": [
      "C:\\Users\\RA\\AppData\\Local\\Temp\\ipykernel_5924\\4010153351.py:12: UserWarning: [W007] The model you're using has no word vectors loaded, so the result of the Doc.similarity method will be based on the tagger, parser and NER, which may not give useful similarity judgements. This may happen if you're using one of the small models, e.g. `en_core_web_sm`, which don't ship with word vectors and only use context-sensitive tensors. You can always add your own word vectors, or use one of the larger models instead if available.\n",
      "  similarity = doc1.similarity(doc2)\n"
     ]
    }
   ],
   "source": [
    "nlp = spacy.load(\"en_core_web_sm\")\n",
    "\n",
    "# Example sentences\n",
    "sentence1 = \"cat\"\n",
    "sentence2 = \"an animal\"\n",
    "\n",
    "# Process the sentences using spaCy\n",
    "doc1 = nlp(sentence1)\n",
    "doc2 = nlp(sentence2)\n",
    "\n",
    "# Compute the similarity between the two sentences\n",
    "similarity = doc1.similarity(doc2)\n",
    "print(f\"Similarity between the two sentences: {similarity}\")"
   ]
  },
  {
   "cell_type": "code",
   "execution_count": 28,
   "metadata": {},
   "outputs": [],
   "source": [
    "s1 = nlp(\"Only 2 rooms left! 30 others are looking at this right now\")\n",
    "s2 = nlp(\"\"\"False Urgency\"\"\")\n"
   ]
  },
  {
   "cell_type": "code",
   "execution_count": 29,
   "metadata": {},
   "outputs": [
    {
     "name": "stderr",
     "output_type": "stream",
     "text": [
      "C:\\Users\\RA\\AppData\\Local\\Temp\\ipykernel_5924\\2578066249.py:1: UserWarning: [W007] The model you're using has no word vectors loaded, so the result of the Doc.similarity method will be based on the tagger, parser and NER, which may not give useful similarity judgements. This may happen if you're using one of the small models, e.g. `en_core_web_sm`, which don't ship with word vectors and only use context-sensitive tensors. You can always add your own word vectors, or use one of the larger models instead if available.\n",
      "  s1.similarity(s2)\n"
     ]
    },
    {
     "data": {
      "text/plain": [
       "0.3341142421512528"
      ]
     },
     "execution_count": 29,
     "metadata": {},
     "output_type": "execute_result"
    }
   ],
   "source": [
    "s1.similarity(s2)"
   ]
  }
 ],
 "metadata": {
  "kernelspec": {
   "display_name": "Python 3",
   "language": "python",
   "name": "python3"
  },
  "language_info": {
   "codemirror_mode": {
    "name": "ipython",
    "version": 3
   },
   "file_extension": ".py",
   "mimetype": "text/x-python",
   "name": "python",
   "nbconvert_exporter": "python",
   "pygments_lexer": "ipython3",
   "version": "3.11.5"
  }
 },
 "nbformat": 4,
 "nbformat_minor": 2
}
